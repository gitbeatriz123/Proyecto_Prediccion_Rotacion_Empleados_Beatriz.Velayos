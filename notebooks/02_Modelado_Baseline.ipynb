{
 "cells": [
  {
   "cell_type": "markdown",
   "id": "3bb7f55b-d23a-4453-8f2a-99d889f88030",
   "metadata": {},
   "source": [
    "1) Setup (instalación y comprobación)"
   ]
  },
  {
   "cell_type": "code",
   "execution_count": 3,
   "id": "c56c5580-2a38-4065-b1f0-0a3b9b0cba7c",
   "metadata": {},
   "outputs": [
    {
     "name": "stdout",
     "output_type": "stream",
     "text": [
      "Note: you may need to restart the kernel to use updated packages.\n",
      "sklearn: 1.7.1\n",
      "matplotlib: 3.10.5\n"
     ]
    }
   ],
   "source": [
    "%pip install -q scikit-learn matplotlib joblib\n",
    "\n",
    "# Comprobación rápida\n",
    "import sklearn, matplotlib\n",
    "print(\"sklearn:\", sklearn.__version__)\n",
    "print(\"matplotlib:\", matplotlib.__version__)"
   ]
  },
  {
   "cell_type": "code",
   "execution_count": 4,
   "id": "3e606a05-33bd-45a1-9280-f874aec78bdc",
   "metadata": {},
   "outputs": [
    {
     "name": "stdout",
     "output_type": "stream",
     "text": [
      "sklearn: 1.7.1\n",
      "matplotlib: 3.10.5\n"
     ]
    }
   ],
   "source": [
    "import sklearn, matplotlib\n",
    "print(\"sklearn:\", sklearn.__version__)\n",
    "print(\"matplotlib:\", matplotlib.__version__)\n"
   ]
  },
  {
   "cell_type": "markdown",
   "id": "6890de69-7f6e-4c03-ba02-0572d7fd4983",
   "metadata": {},
   "source": [
    "2) Carga de datos (Parquet del ETL) y arranque Spark\n"
   ]
  },
  {
   "cell_type": "code",
   "execution_count": 5,
   "id": "3ecb6395-8588-4465-841e-6a98c67ddb60",
   "metadata": {},
   "outputs": [
    {
     "name": "stdout",
     "output_type": "stream",
     "text": [
      "root\n",
      " |-- EmployeeNumber: integer (nullable = true)\n",
      " |-- Age: integer (nullable = true)\n",
      " |-- Attrition: string (nullable = true)\n",
      " |-- BusinessTravel: string (nullable = true)\n",
      " |-- DailyRate: integer (nullable = true)\n",
      " |-- Department: string (nullable = true)\n",
      " |-- DistanceFromHome: integer (nullable = true)\n",
      " |-- Education: integer (nullable = true)\n",
      " |-- EducationField: string (nullable = true)\n",
      " |-- EmployeeCount: integer (nullable = true)\n",
      " |-- EnvironmentSatisfaction: integer (nullable = true)\n",
      " |-- Gender: string (nullable = true)\n",
      " |-- HourlyRate: integer (nullable = true)\n",
      " |-- JobInvolvement: integer (nullable = true)\n",
      " |-- JobLevel: integer (nullable = true)\n",
      " |-- JobRole: string (nullable = true)\n",
      " |-- JobSatisfaction: integer (nullable = true)\n",
      " |-- MaritalStatus: string (nullable = true)\n",
      " |-- MonthlyIncome: integer (nullable = true)\n",
      " |-- MonthlyRate: integer (nullable = true)\n",
      " |-- NumCompaniesWorked: integer (nullable = true)\n",
      " |-- Over18: string (nullable = true)\n",
      " |-- OverTime: string (nullable = true)\n",
      " |-- PercentSalaryHike: integer (nullable = true)\n",
      " |-- PerformanceRating: integer (nullable = true)\n",
      " |-- RelationshipSatisfaction: integer (nullable = true)\n",
      " |-- StandardHours: integer (nullable = true)\n",
      " |-- StockOptionLevel: integer (nullable = true)\n",
      " |-- TotalWorkingYears: integer (nullable = true)\n",
      " |-- TrainingTimesLastYear: integer (nullable = true)\n",
      " |-- WorkLifeBalance: integer (nullable = true)\n",
      " |-- YearsAtCompany: integer (nullable = true)\n",
      " |-- YearsInCurrentRole: integer (nullable = true)\n",
      " |-- YearsSinceLastPromotion: integer (nullable = true)\n",
      " |-- YearsWithCurrManager: integer (nullable = true)\n",
      " |-- survey_Engagement: integer (nullable = true)\n",
      " |-- survey_Satisfaction: integer (nullable = true)\n",
      " |-- survey_WorkLifeBalanceSurvey: integer (nullable = true)\n",
      " |-- survey_ManagerRelationship: integer (nullable = true)\n",
      " |-- survey_RemoteWorkSatisfaction: integer (nullable = true)\n",
      " |-- attrition_label: integer (nullable = true)\n",
      " |-- overtime_flag: integer (nullable = true)\n",
      " |-- income_yearly: integer (nullable = true)\n",
      " |-- tenure_ratio: double (nullable = true)\n",
      "\n"
     ]
    },
    {
     "data": {
      "text/plain": [
       "1470"
      ]
     },
     "execution_count": 5,
     "metadata": {},
     "output_type": "execute_result"
    }
   ],
   "source": [
    "from pyspark.sql import SparkSession\n",
    "\n",
    "spark = (SparkSession.builder\n",
    "         .master(\"local[*]\")       # puedes cambiar a \"spark://spark-master:7077\" si quieres usar el cluster\n",
    "         .appName(\"model-baseline\")\n",
    "         .getOrCreate())\n",
    "\n",
    "DATA_PATH = \"/data/processed/employee_attrition.parquet\"\n",
    "df_spark = spark.read.parquet(DATA_PATH)\n",
    "\n",
    "df_spark.printSchema()\n",
    "df_spark.limit(5).toPandas()\n",
    "df_spark.count()"
   ]
  },
  {
   "cell_type": "markdown",
   "id": "f632c5f5-11ed-491d-874d-75bc032b905a",
   "metadata": {},
   "source": [
    "3) Preparación para ML (Pandas, target y columnas)"
   ]
  },
  {
   "cell_type": "code",
   "execution_count": 6,
   "id": "351f0df4-88d6-4e6d-a89b-476fc9afea0c",
   "metadata": {},
   "outputs": [
    {
     "name": "stdout",
     "output_type": "stream",
     "text": [
      "Shape X: (1470, 38)  | num: 31  | cat: 7\n"
     ]
    },
    {
     "data": {
      "text/plain": [
       "(['BusinessTravel',\n",
       "  'Department',\n",
       "  'EducationField',\n",
       "  'Gender',\n",
       "  'JobRole',\n",
       "  'MaritalStatus',\n",
       "  'OverTime'],\n",
       " ['Age',\n",
       "  'DailyRate',\n",
       "  'DistanceFromHome',\n",
       "  'Education',\n",
       "  'EnvironmentSatisfaction',\n",
       "  'HourlyRate',\n",
       "  'JobInvolvement',\n",
       "  'JobLevel',\n",
       "  'JobSatisfaction',\n",
       "  'MonthlyIncome'])"
      ]
     },
     "execution_count": 6,
     "metadata": {},
     "output_type": "execute_result"
    }
   ],
   "source": [
    "import numpy as np\n",
    "import pandas as pd\n",
    "\n",
    "# Pasamos a pandas para usar scikit-learn\n",
    "pdf = df_spark.toPandas()\n",
    "\n",
    "# Variable objetivo\n",
    "y = pdf[\"attrition_label\"].astype(int)\n",
    "\n",
    "# Columnas que retiramos (ID, constantes o duplicadas de la label)\n",
    "drop_cols = [\n",
    "    \"attrition_label\", \"Attrition\", \"EmployeeNumber\",\n",
    "    \"EmployeeCount\", \"StandardHours\", \"Over18\"  # suelen ser constantes en este dataset\n",
    "]\n",
    "X = pdf.drop(columns=[c for c in drop_cols if c in pdf.columns], errors=\"ignore\")\n",
    "\n",
    "# Detectamos tipos\n",
    "num_cols = X.select_dtypes(include=[np.number]).columns.tolist()\n",
    "cat_cols = X.select_dtypes(exclude=[np.number]).columns.tolist()\n",
    "\n",
    "print(\"Shape X:\", X.shape, \" | num:\", len(num_cols), \" | cat:\", len(cat_cols))\n",
    "(cat_cols[:10], num_cols[:10])"
   ]
  },
  {
   "cell_type": "markdown",
   "id": "4ae69323-3f04-4129-b635-9471dd7149e0",
   "metadata": {},
   "source": [
    "4) Split, preprocesado y modelos (LogReg + RandomForest)"
   ]
  },
  {
   "cell_type": "code",
   "execution_count": 15,
   "id": "0d983dcb-9aed-4b37-bd32-2154053863d3",
   "metadata": {},
   "outputs": [],
   "source": [
    "from sklearn.model_selection import train_test_split\n",
    "from sklearn.preprocessing import OneHotEncoder, StandardScaler\n",
    "from sklearn.compose import ColumnTransformer\n",
    "from sklearn.pipeline import Pipeline\n",
    "from sklearn.linear_model import LogisticRegression\n",
    "from sklearn.ensemble import RandomForestClassifier\n",
    "\n",
    "# Split estratificado por desbalanceo (~16% positivo)\n",
    "X_train, X_test, y_train, y_test = train_test_split(\n",
    "    X, y, test_size=0.20, random_state=42, stratify=y\n",
    ")\n",
    "\n",
    "# Preprocesado:\n",
    "# - num: StandardScaler (with_mean=False para evitar problemas cuando se concatena con OHE -> matriz esparsa)\n",
    "# - cat: OneHotEncoder ignorando categorías no vistas en train\n",
    "preproc = ColumnTransformer(\n",
    "    transformers=[\n",
    "        (\"num\", StandardScaler(with_mean=False), num_cols),\n",
    "        (\"cat\", OneHotEncoder(handle_unknown=\"ignore\"), cat_cols),\n",
    "    ],\n",
    "    remainder=\"drop\",\n",
    ")\n",
    "\n",
    "# Modelos baseline\n",
    "pipe_lr = Pipeline(steps=[\n",
    "    (\"prep\", preproc),\n",
    "    (\"clf\", LogisticRegression(\n",
    "        solver=\"liblinear\",   # estable y rápido en binario\n",
    "        penalty=\"l2\",\n",
    "        C=1.0,\n",
    "        max_iter=1000,\n",
    "        class_weight=\"balanced\"\n",
    "    ))\n",
    "])\n",
    "\n",
    "\n",
    "pipe_rf = Pipeline(steps=[\n",
    "    (\"prep\", preproc),\n",
    "    (\"clf\", RandomForestClassifier(\n",
    "        n_estimators=400, n_jobs=-1, random_state=42,\n",
    "        class_weight=\"balanced_subsample\"\n",
    "    ))\n",
    "])\n"
   ]
  },
  {
   "cell_type": "markdown",
   "id": "60f00240-d124-4fd2-b9c4-496c726be377",
   "metadata": {},
   "source": [
    "5) Validación cruzada (CV) estratificada"
   ]
  },
  {
   "cell_type": "code",
   "execution_count": 18,
   "id": "58431ac9-236e-4862-ad4f-9277fd9dc9c5",
   "metadata": {},
   "outputs": [
    {
     "name": "stdout",
     "output_type": "stream",
     "text": [
      "LogReg CV — AUC: 0.819 ± 0.025\n",
      "LogReg CV —  F1: 0.488 ± 0.020\n"
     ]
    }
   ],
   "source": [
    "from sklearn.model_selection import StratifiedKFold, cross_val_score\n",
    "\n",
    "cv = StratifiedKFold(n_splits=5, shuffle=True, random_state=42)\n",
    "\n",
    "auc_cv = cross_val_score(pipe_lr, X, y, cv=cv, scoring=\"roc_auc\")\n",
    "f1_cv  = cross_val_score(pipe_lr, X, y, cv=cv, scoring=\"f1\")\n",
    "\n",
    "print(\"LogReg CV — AUC: %.3f ± %.3f\" % (auc_cv.mean(), auc_cv.std()))\n",
    "print(\"LogReg CV —  F1: %.3f ± %.3f\" % (f1_cv.mean(),  f1_cv.std()))\n"
   ]
  },
  {
   "cell_type": "markdown",
   "id": "49a7313c-1748-4748-b919-f221bc572302",
   "metadata": {},
   "source": [
    "6) Entrenamiento y métricas clave (accuracy, F1, ROC-AUC)"
   ]
  },
  {
   "cell_type": "code",
   "execution_count": 8,
   "id": "73e3a35a-162c-49e1-9dab-1ecb963cb2a8",
   "metadata": {},
   "outputs": [
    {
     "name": "stderr",
     "output_type": "stream",
     "text": [
      "/opt/conda/lib/python3.12/site-packages/sklearn/linear_model/_logistic.py:473: ConvergenceWarning: lbfgs failed to converge after 200 iteration(s) (status=1):\n",
      "STOP: TOTAL NO. OF ITERATIONS REACHED LIMIT\n",
      "\n",
      "Increase the number of iterations to improve the convergence (max_iter=200).\n",
      "You might also want to scale the data as shown in:\n",
      "    https://scikit-learn.org/stable/modules/preprocessing.html\n",
      "Please also refer to the documentation for alternative solver options:\n",
      "    https://scikit-learn.org/stable/modules/linear_model.html#logistic-regression\n",
      "  n_iter_i = _check_optimize_result(\n"
     ]
    },
    {
     "data": {
      "text/plain": [
       "{'logreg': {'accuracy': 0.7619047619047619,\n",
       "  'f1': 0.4696969696969697,\n",
       "  'roc_auc': 0.8052373158756138},\n",
       " 'rf': {'accuracy': 0.8469387755102041,\n",
       "  'f1': 0.18181818181818182,\n",
       "  'roc_auc': 0.7932207769833749}}"
      ]
     },
     "execution_count": 8,
     "metadata": {},
     "output_type": "execute_result"
    }
   ],
   "source": [
    "from sklearn.metrics import accuracy_score, f1_score, roc_auc_score\n",
    "\n",
    "models = {\"logreg\": pipe_lr, \"rf\": pipe_rf}\n",
    "results = {}\n",
    "\n",
    "for name, model in models.items():\n",
    "    model.fit(X_train, y_train)\n",
    "    proba = model.predict_proba(X_test)[:, 1]\n",
    "    pred  = (proba >= 0.5).astype(int)\n",
    "    metrics = {\n",
    "        \"accuracy\": float(accuracy_score(y_test, pred)),\n",
    "        \"f1\":       float(f1_score(y_test, pred)),\n",
    "        \"roc_auc\":  float(roc_auc_score(y_test, proba)),\n",
    "    }\n",
    "    results[name] = metrics\n",
    "\n",
    "results\n"
   ]
  },
  {
   "cell_type": "markdown",
   "id": "c6a30063-0e9d-46b0-ab68-24a117f4d1c4",
   "metadata": {},
   "source": [
    "6.1) Asegurar best_model"
   ]
  },
  {
   "cell_type": "code",
   "execution_count": 19,
   "id": "bbbcc8d5-ce7a-4a31-9cd2-b04679443d49",
   "metadata": {},
   "outputs": [
    {
     "data": {
      "text/plain": [
       "'logreg'"
      ]
     },
     "execution_count": 19,
     "metadata": {},
     "output_type": "execute_result"
    }
   ],
   "source": [
    "# Elegir el mejor por ROC-AUC en test \n",
    "best_name = max(results.items(), key=lambda kv: kv[1][\"roc_auc\"])[0]\n",
    "best_model = models[best_name]\n",
    "best_name\n"
   ]
  },
  {
   "cell_type": "markdown",
   "id": "3417cafb-a8c3-469a-baab-51d1bb787f3a",
   "metadata": {},
   "source": [
    "6.2) Calcular el umbral óptimo por F1"
   ]
  },
  {
   "cell_type": "code",
   "execution_count": 20,
   "id": "bcef1911-2b03-442f-bb01-05670570e6ac",
   "metadata": {},
   "outputs": [
    {
     "name": "stdout",
     "output_type": "stream",
     "text": [
      "Mejor umbral por F1: 0.705 | F1=0.517 | modelo=logreg\n"
     ]
    }
   ],
   "source": [
    "import numpy as np\n",
    "from sklearn.metrics import precision_recall_curve, f1_score\n",
    "\n",
    "proba = best_model.predict_proba(X_test)[:, 1]\n",
    "prec, rec, thr = precision_recall_curve(y_test, proba)\n",
    "\n",
    "f1s = [f1_score(y_test, (proba >= t).astype(int)) for t in thr]\n",
    "best_idx = int(np.argmax(f1s))\n",
    "best_thr = float(thr[best_idx])\n",
    "best_f1  = float(f1s[best_idx])\n",
    "\n",
    "print(f\"Mejor umbral por F1: {best_thr:.3f} | F1={best_f1:.3f} | modelo={best_name}\")\n"
   ]
  },
  {
   "cell_type": "markdown",
   "id": "6474871a-513b-4572-b518-5b2f8f3d6185",
   "metadata": {},
   "source": [
    "6.3) Guardar umbral y modelo juntos"
   ]
  },
  {
   "cell_type": "code",
   "execution_count": 21,
   "id": "aeaf4957-20ce-46e6-b158-962d1c00f0eb",
   "metadata": {},
   "outputs": [
    {
     "name": "stdout",
     "output_type": "stream",
     "text": [
      "Guardado:\n",
      " - /output/metrics/threshold_tuning.json\n",
      " - /output/models/logreg_baseline.pkl\n"
     ]
    }
   ],
   "source": [
    "import os, json, joblib\n",
    "\n",
    "os.makedirs(\"/output/metrics\", exist_ok=True)\n",
    "with open(\"/output/metrics/threshold_tuning.json\",\"w\") as f:\n",
    "    json.dump({\n",
    "        \"model\": best_name,\n",
    "        \"best_threshold_by_f1\": best_thr,\n",
    "        \"best_f1\": best_f1\n",
    "    }, f, indent=2)\n",
    "\n",
    "os.makedirs(\"/output/models\", exist_ok=True)\n",
    "model_path = f\"/output/models/{best_name}_baseline.pkl\"\n",
    "joblib.dump({\"model\": best_model, \"threshold\": best_thr}, model_path)\n",
    "\n",
    "print(\"Guardado:\")\n",
    "print(\" - /output/metrics/threshold_tuning.json\")\n",
    "print(\" -\", model_path)\n"
   ]
  },
  {
   "cell_type": "code",
   "execution_count": 17,
   "id": "6f5c359d-683e-4c9a-9524-afaa0610b27c",
   "metadata": {},
   "outputs": [
    {
     "name": "stdout",
     "output_type": "stream",
     "text": [
      "PR-AUC (best): 0.552\n"
     ]
    }
   ],
   "source": [
    "from sklearn.metrics import average_precision_score\n",
    "\n",
    "proba_best = best_model.predict_proba(X_test)[:, 1]\n",
    "pr_auc = average_precision_score(y_test, proba_best)\n",
    "print(f\"PR-AUC (best): {pr_auc:.3f}\")"
   ]
  },
  {
   "cell_type": "markdown",
   "id": "5338263d-0eb4-4845-8eda-67437d263112",
   "metadata": {},
   "source": [
    "7) Matriz de confusión y curvas ROC"
   ]
  },
  {
   "cell_type": "code",
   "execution_count": 22,
   "id": "a9abc9c6-1036-4d82-80bd-f0b086607b43",
   "metadata": {},
   "outputs": [
    {
     "data": {
      "image/png": "[encoded data removed]",
      "text/plain": [
       "<Figure size 640x480 with 1 Axes>"
      ]
     },
     "metadata": {},
     "output_type": "display_data"
    },
    {
     "data": {
      "image/png": "[encoded data removed]",
      "text/plain": [
       "<Figure size 640x480 with 1 Axes>"
      ]
     },
     "metadata": {},
     "output_type": "display_data"
    }
   ],
   "source": [
    "import numpy as np\n",
    "import matplotlib.pyplot as plt\n",
    "from sklearn.metrics import confusion_matrix, roc_curve, roc_auc_score\n",
    "\n",
    "# Elegimos el mejor por AUC\n",
    "best_name = max(results.items(), key=lambda kv: kv[1][\"roc_auc\"])[0]\n",
    "best_model = models[best_name]\n",
    "\n",
    "# Confusión\n",
    "proba_best = best_model.predict_proba(X_test)[:,1]\n",
    "pred_best = (proba_best >= 0.5).astype(int)\n",
    "cm = confusion_matrix(y_test, pred_best)\n",
    "\n",
    "plt.figure()\n",
    "plt.imshow(cm)\n",
    "plt.title(f\"Confusion matrix ({best_name})\"); plt.xlabel(\"Pred\"); plt.ylabel(\"True\")\n",
    "for (i,j), v in np.ndenumerate(cm):\n",
    "    plt.text(j, i, str(v), ha=\"center\", va=\"center\")\n",
    "plt.show()\n",
    "\n",
    "# ROC de ambos modelos\n",
    "plt.figure()\n",
    "for name, model in models.items():\n",
    "    p = model.predict_proba(X_test)[:,1]\n",
    "    fpr, tpr, _ = roc_curve(y_test, p)\n",
    "    plt.plot(fpr, tpr, label=f\"{name} (AUC={roc_auc_score(y_test,p):.3f})\")\n",
    "plt.plot([0,1],[0,1],\"--\")\n",
    "plt.title(\"ROC curves\"); plt.xlabel(\"FPR\"); plt.ylabel(\"TPR\"); plt.legend()\n",
    "plt.show()\n"
   ]
  },
  {
   "cell_type": "markdown",
   "id": "2ba11d9c-207e-4a62-bfdd-999f14b6b5be",
   "metadata": {},
   "source": [
    "8) Guardar métricas y modelo ganador"
   ]
  },
  {
   "cell_type": "code",
   "execution_count": 23,
   "id": "7a5a1ec6-fde4-4289-a866-378e01dc48b1",
   "metadata": {},
   "outputs": [
    {
     "name": "stdout",
     "output_type": "stream",
     "text": [
      "Resultados guardados en:\n",
      " - /output/metrics/model_baseline.json\n",
      " - /output/models/logreg_baseline.pkl\n"
     ]
    }
   ],
   "source": [
    "import os, json, joblib\n",
    "\n",
    "os.makedirs(\"/output/metrics\", exist_ok=True)\n",
    "with open(\"/output/metrics/model_baseline.json\",\"w\") as f:\n",
    "    json.dump(results, f, indent=2)\n",
    "\n",
    "os.makedirs(\"/output/models\", exist_ok=True)\n",
    "model_path = f\"/output/models/{best_name}_baseline.pkl\"\n",
    "joblib.dump(best_model, model_path)\n",
    "\n",
    "print(\"Resultados guardados en:\")\n",
    "print(\" - /output/metrics/model_baseline.json\")\n",
    "print(\" -\", model_path)\n"
   ]
  },
  {
   "cell_type": "markdown",
   "id": "10770d99-bec4-45f0-9c8f-930bf2b7fc27",
   "metadata": {},
   "source": [
    "9) Importancias (Random Forest) + nombres de features (incluye OHE) y export a CSV"
   ]
  },
  {
   "cell_type": "code",
   "execution_count": 24,
   "id": "0dcc0cb7-683d-4a17-b7b8-553792a83c46",
   "metadata": {},
   "outputs": [
    {
     "name": "stdout",
     "output_type": "stream",
     "text": [
      "El mejor modelo no es RandomForest; importancias no disponibles.\n"
     ]
    }
   ],
   "source": [
    "import pandas as pd\n",
    "from sklearn.preprocessing import OneHotEncoder\n",
    "\n",
    "def get_feature_names(preproc, num_cols, cat_cols):\n",
    "    \"\"\"Devuelve la lista de nombres de features tras ColumnTransformer (num + OHE).\"\"\"\n",
    "    feat_names = []\n",
    "\n",
    "    # Numéricas: se mantienen los nombres\n",
    "    feat_names.extend(num_cols)\n",
    "\n",
    "    # Categóricas: usar get_feature_names_out del OHE ya ajustado\n",
    "    # Acceso al transformer OneHot ya \"fitted\"\n",
    "    # Nota: en sklearn >=1.0: get_feature_names_out\n",
    "    ohe = preproc.named_transformers_[\"cat\"]\n",
    "    cat_feature_names = ohe.get_feature_names_out(cat_cols)\n",
    "    feat_names.extend(cat_feature_names.tolist())\n",
    "    return feat_names\n",
    "\n",
    "# Solo tiene sentido si el best es RF (importancias)\n",
    "if best_name == \"rf\":\n",
    "    pre = best_model.named_steps[\"prep\"]\n",
    "    clf = best_model.named_steps[\"clf\"]\n",
    "\n",
    "    feature_names = get_feature_names(pre, num_cols, cat_cols)\n",
    "    importances = clf.feature_importances_\n",
    "\n",
    "    fi = pd.DataFrame({\"feature\": feature_names, \"importance\": importances})\n",
    "    fi = fi.sort_values(\"importance\", ascending=False)\n",
    "\n",
    "    os.makedirs(\"/output/metrics\", exist_ok=True)\n",
    "    fi.to_csv(\"/output/metrics/feature_importance_rf.csv\", index=False)\n",
    "    fi.head(20)\n",
    "else:\n",
    "    print(\"El mejor modelo no es RandomForest; importancias no disponibles.\")\n"
   ]
  },
  {
   "cell_type": "markdown",
   "id": "aa050fd2-71b9-4b4a-b22b-c92098cba041",
   "metadata": {},
   "source": [
    "10) Ajuste de umbral para mejor F1/recall"
   ]
  },
  {
   "cell_type": "code",
   "execution_count": 25,
   "id": "6f98b80b-1c08-401d-82f3-370e5c188db1",
   "metadata": {},
   "outputs": [
    {
     "name": "stdout",
     "output_type": "stream",
     "text": [
      "Mejor umbral por F1: 0.705 | F1=0.517\n"
     ]
    }
   ],
   "source": [
    "from sklearn.metrics import precision_recall_curve, f1_score\n",
    "\n",
    "proba = best_model.predict_proba(X_test)[:,1]\n",
    "prec, rec, thr = precision_recall_curve(y_test, proba)\n",
    "\n",
    "# Elegir el umbral que maximiza F1\n",
    "f1_vals = [f1_score(y_test, (proba >= t).astype(int)) for t in thr]\n",
    "best_idx = int(np.argmax(f1_vals))\n",
    "best_thr = float(thr[best_idx])\n",
    "best_f1 = float(f1_vals[best_idx])\n",
    "\n",
    "print(f\"Mejor umbral por F1: {best_thr:.3f} | F1={best_f1:.3f}\")\n",
    "\n",
    "# Guarda el mejor umbral\n",
    "with open(\"/output/metrics/threshold_tuning.json\",\"w\") as f:\n",
    "    json.dump({\"best_threshold_by_f1\": best_thr, \"best_f1\": best_f1}, f, indent=2)\n"
   ]
  },
  {
   "cell_type": "markdown",
   "id": "84e618ab-7315-4117-9c15-2360bfec11dd",
   "metadata": {},
   "source": [
    "11) Resumen de métricas y guardado"
   ]
  },
  {
   "cell_type": "code",
   "execution_count": 26,
   "id": "3d86a702-a345-418b-b7b1-1d14a71663ea",
   "metadata": {},
   "outputs": [
    {
     "data": {
      "text/html": [
       "<div>\n",
       "<style scoped>\n",
       "    .dataframe tbody tr th:only-of-type {\n",
       "        vertical-align: middle;\n",
       "    }\n",
       "\n",
       "    .dataframe tbody tr th {\n",
       "        vertical-align: top;\n",
       "    }\n",
       "\n",
       "    .dataframe thead th {\n",
       "        text-align: right;\n",
       "    }\n",
       "</style>\n",
       "<table border=\"1\" class=\"dataframe\">\n",
       "  <thead>\n",
       "    <tr style=\"text-align: right;\">\n",
       "      <th></th>\n",
       "      <th>model</th>\n",
       "      <th>accuracy</th>\n",
       "      <th>f1</th>\n",
       "      <th>roc_auc</th>\n",
       "    </tr>\n",
       "  </thead>\n",
       "  <tbody>\n",
       "    <tr>\n",
       "      <th>0</th>\n",
       "      <td>logreg</td>\n",
       "      <td>0.761905</td>\n",
       "      <td>0.469697</td>\n",
       "      <td>0.805237</td>\n",
       "    </tr>\n",
       "    <tr>\n",
       "      <th>1</th>\n",
       "      <td>rf</td>\n",
       "      <td>0.846939</td>\n",
       "      <td>0.181818</td>\n",
       "      <td>0.793221</td>\n",
       "    </tr>\n",
       "  </tbody>\n",
       "</table>\n",
       "</div>"
      ],
      "text/plain": [
       "    model  accuracy        f1   roc_auc\n",
       "0  logreg  0.761905  0.469697  0.805237\n",
       "1      rf  0.846939  0.181818  0.793221"
      ]
     },
     "metadata": {},
     "output_type": "display_data"
    },
    {
     "name": "stdout",
     "output_type": "stream",
     "text": [
      "KPIs guardados en /output/metrics/kpis_modelos.csv\n",
      "Best threshold bundle: {'best_threshold_by_f1': 0.705193598441277, 'best_f1': 0.5168539325842697}\n"
     ]
    }
   ],
   "source": [
    "import json, os, pandas as pd\n",
    "\n",
    "# Carga lo ya guardado\n",
    "with open(\"/output/metrics/model_baseline.json\") as f:\n",
    "    model_metrics = json.load(f)\n",
    "\n",
    "thr_meta = {}\n",
    "try:\n",
    "    with open(\"/output/metrics/threshold_tuning.json\") as f:\n",
    "        thr_meta = json.load(f)\n",
    "except FileNotFoundError:\n",
    "    pass\n",
    "\n",
    "# Tabla de KPIs\n",
    "rows = []\n",
    "for name, m in model_metrics.items():\n",
    "    rows.append({\n",
    "        \"model\": name,\n",
    "        \"accuracy\": m.get(\"accuracy\"),\n",
    "        \"f1\": m.get(\"f1\"),\n",
    "        \"roc_auc\": m.get(\"roc_auc\"),\n",
    "    })\n",
    "kpis = pd.DataFrame(rows).sort_values(\"roc_auc\", ascending=False)\n",
    "display(kpis)\n",
    "\n",
    "os.makedirs(\"/output/metrics\", exist_ok=True)\n",
    "kpis.to_csv(\"/output/metrics/kpis_modelos.csv\", index=False)\n",
    "print(\"KPIs guardados en /output/metrics/kpis_modelos.csv\")\n",
    "\n",
    "# Añade umbral ganador si existe\n",
    "if thr_meta:\n",
    "    print(\"Best threshold bundle:\", thr_meta)\n"
   ]
  },
  {
   "cell_type": "markdown",
   "id": "a49e340e-0758-4b48-b69c-1061114ec842",
   "metadata": {},
   "source": [
    "12) Gráficas para informe"
   ]
  },
  {
   "cell_type": "code",
   "execution_count": 27,
   "id": "b2e98463-0112-4d72-9212-1f89e05a7006",
   "metadata": {},
   "outputs": [
    {
     "data": {
      "image/png": "[encoded data removed]",
      "text/plain": [
       "<Figure size 640x480 with 1 Axes>"
      ]
     },
     "metadata": {},
     "output_type": "display_data"
    },
    {
     "data": {
      "image/png": "[encoded data removed]",
      "text/plain": [
       "<Figure size 640x480 with 1 Axes>"
      ]
     },
     "metadata": {},
     "output_type": "display_data"
    },
    {
     "name": "stdout",
     "output_type": "stream",
     "text": [
      "Plot guardado en /output/plots/*.png\n"
     ]
    }
   ],
   "source": [
    "import matplotlib.pyplot as plt\n",
    "import numpy as np\n",
    "import os\n",
    "\n",
    "# Barra de AUC y F1\n",
    "fig, ax = plt.subplots()\n",
    "ax.bar(kpis[\"model\"], kpis[\"roc_auc\"])\n",
    "ax.set_title(\"ROC-AUC por modelo\")\n",
    "ax.set_ylim(0, 1.0)\n",
    "os.makedirs(\"/output/plots\", exist_ok=True)\n",
    "plt.savefig(\"/output/plots/roc_auc_por_modelo.png\")\n",
    "plt.show()\n",
    "\n",
    "fig, ax = plt.subplots()\n",
    "ax.bar(kpis[\"model\"], kpis[\"f1\"])\n",
    "ax.set_title(\"F1 por modelo\")\n",
    "ax.set_ylim(0, 1.0)\n",
    "plt.savefig(\"/output/plots/f1_por_modelo.png\")\n",
    "plt.show()\n",
    "\n",
    "print(\"Plot guardado en /output/plots/*.png\")\n"
   ]
  }
 ],
 "metadata": {
  "kernelspec": {
   "display_name": "Python 3 (ipykernel)",
   "language": "python",
   "name": "python3"
  },
  "language_info": {
   "codemirror_mode": {
    "name": "ipython",
    "version": 3
   },
   "file_extension": ".py",
   "mimetype": "text/x-python",
   "name": "python",
   "nbconvert_exporter": "python",
   "pygments_lexer": "ipython3",
   "version": "3.12.11"
  }
 },
 "nbformat": 4,
 "nbformat_minor": 5
}
