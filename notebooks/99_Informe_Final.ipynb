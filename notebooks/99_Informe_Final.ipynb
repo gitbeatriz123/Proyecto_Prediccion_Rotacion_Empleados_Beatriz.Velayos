{
 "cells": [
  {
   "cell_type": "markdown",
   "id": "1f65ab34",
   "metadata": {},
   "source": [
    "\n",
    "# Proyecto Big Data — **Predicción de Rotación de Empleados** (Informe Final)\n",
    "**Autora:** Beatriz Velayos  \n",
    "**Bootcamp:** KeepCoding — XV Edición  \n",
    "**Fecha:** 2025-08-11\n",
    "\n",
    "> Este informe resume el objetivo de negocio, los datos y su calidad, la arquitectura, el ETL, el EDA, el modelado tradicional y con DL, la comparación de resultados, los KPIs para negocio y las conclusiones con próximos pasos.\n"
   ]
  },
  {
   "cell_type": "markdown",
   "id": "ccf2f746",
   "metadata": {},
   "source": [
    "\n",
    "## 1. Resumen ejecutivo\n",
    "- **Objetivo:** Predecir *Attrition* (abandono) de empleados para priorizar acciones de retención.\n",
    "- **Resultado:** Se evaluaron modelos ML (LogReg, RandomForest) y un MLP (DL). Se seleccionó el modelo óptimo con **umbral operativo** para maximizar F1/recall.\n",
    "- **Impacto:** Identificación de factores clave (ej. `OverTime`, `Income`, *engagement*). KPI de negocio con tasas por **JobRole**, **OverTime**, **bandas salariales** y **antigüedad**.\n"
   ]
  },
  {
   "cell_type": "markdown",
   "id": "cf276a38",
   "metadata": {},
   "source": [
    "\n",
    "## 2. Definición del problema\n",
    "- **Tipo:** Clasificación binaria (Attrition: Sí/No).\n",
    "- **Métrica principal:** ROC-AUC + F1 (por desbalanceo ~16% de clase positiva).\n",
    "- **Uso en negocio:** Score de salida y bandera (según umbral) para campañas de retención, priorización de manager HR y política de horas extra.\n"
   ]
  },
  {
   "cell_type": "markdown",
   "id": "f5df10c8",
   "metadata": {},
   "source": [
    "\n",
    "## 3. Datos y calidad\n",
    "- **Fuente 1:** `WA_Fn-UseC_-HR-Employee-Attrition.csv` (RRHH).  \n",
    "- **Fuente 2:** `encuesta_clima.csv` (clima laboral; sintética/real).\n",
    "- **Clave de unión:** `EmployeeNumber`.\n",
    "- **Validación:** Nulos y duplicados en clave; fracción de nulos por columna; **status: PASS**.\n"
   ]
  },
  {
   "cell_type": "code",
   "execution_count": 10,
   "id": "6d57fe19",
   "metadata": {},
   "outputs": [
    {
     "name": "stdout",
     "output_type": "stream",
     "text": [
      "== QUALITY -> /output/metrics/quality_report.json\n",
      "{\n",
      "  \"timestamp\": \"2025-08-11T08:35:53.769985Z\",\n",
      "  \"inputs\": {\n",
      "    \"input1\": \"/data/raw/WA_Fn-UseC_-HR-Employee-Attrition.csv\",\n",
      "    \"input2\": \"/data/raw/encuesta_clima.csv\"\n",
      "  },\n",
      "  \"key\": \"EmployeeNumber\",\n",
      "  \"max_null_frac\": 0.25,\n",
      "  \"checks\": {\n",
      "    \"null_key\": {\n",
      "      \"input1_nulls\": 0,\n",
      "      \"input2_nulls\": 0\n",
      "    },\n",
      "    \"duplicates\": {\n",
      "      \"input1_duplicates\": 0,\n",
      "      \"input2_duplicates\": 0\n",
      "    },\n",
      "    \"nulls_fraction\": {\n",
      "      \"input1\": {\n",
      "        \"Age\": {\n",
      "          \"nulls\": 0,\n",
      "          \"frac\": 0.0\n",
      "        },\n",
      "        \"Attrition\": {\n",
      "          \"nulls\": 0,\n",
      "          \"frac\": 0.0\n",
      "        },\n",
      "        \"BusinessTravel\": {\n",
      "          \"nulls\": 0,\n",
      "          \"frac\": 0.0\n",
      "        },\n",
      "        \"DailyRate\": {\n",
      "          \"nulls\": 0,\n",
      "          \"frac\": 0.0\n",
      "        },\n",
      "        \"Department\": {\n",
      "          \"nulls\": 0,\n",
      "          \"frac\": 0.0\n",
      "        },\n",
      "        \"DistanceFromHome\": {\n",
      "          \"nulls\": 0,\n",
      "          \"frac\": 0.0\n",
      "        },\n",
      "        \"Education\": {\n",
      "          \"nulls\": 0,\n",
      "          \"frac\": 0.0\n",
      "        },\n",
      "  ...\n",
      "== ETL -> /output/metrics/etl_metrics.json\n",
      "{\n",
      "  \"timestamp\": \"2025-08-11T08:43:28.097281+00:00\",\n",
      "  \"rows\": 1470,\n",
      "  \"attrition_positive\": 237,\n",
      "  \"attrition_rate\": 0.16122448979591836,\n",
      "  \"columns\": [\n",
      "    \"EmployeeNumber\",\n",
      "    \"Age\",\n",
      "    \"Attrition\",\n",
      "    \"BusinessTravel\",\n",
      "    \"DailyRate\",\n",
      "    \"Department\",\n",
      "    \"DistanceFromHome\",\n",
      "    \"Education\",\n",
      "    \"EducationField\",\n",
      "    \"EmployeeCount\",\n",
      "    \"EnvironmentSatisfaction\",\n",
      "    \"Gender\",\n",
      "    \"HourlyRate\",\n",
      "    \"JobInvolvement\",\n",
      "    \"JobLevel\",\n",
      "    \"JobRole\",\n",
      "    \"JobSatisfaction\",\n",
      "    \"MaritalStatus\",\n",
      "    \"MonthlyIncome\",\n",
      "    \"MonthlyRate\",\n",
      "    \"NumCompaniesWorked\",\n",
      "    \"Over18\",\n",
      "    \"OverTime\",\n",
      "    \"PercentSalaryHike\",\n",
      "    \"PerformanceRating\",\n",
      "    \"RelationshipSatisfaction\",\n",
      "    \"StandardHours\",\n",
      "    \"StockOptionLevel\",\n",
      "    \"TotalWorkingYears\",\n",
      "    \"TrainingTimesLastYear\",\n",
      "    \"WorkLifeBalance\",\n",
      "    \"YearsAtCompany\",\n",
      "    \"YearsInCurrentRole\",\n",
      "    \"YearsSinceLastPromotion\",\n",
      "    \"YearsWithCurrManager\",\n",
      "    \"survey_Engagement\",\n",
      "    \"survey_Satisfaction\",\n",
      "    \"survey_WorkLifeBalanceSurvey\",\n",
      "...\n"
     ]
    }
   ],
   "source": [
    "# Cargar resúmenes de calidad/ETL si existen\n",
    "import json, os, pandas as pd, textwrap\n",
    "\n",
    "paths = {\n",
    "    \"quality\": \"/output/metrics/quality_report.json\",\n",
    "    \"etl\": \"/output/metrics/etl_metrics.json\"\n",
    "}\n",
    "for k,p in paths.items():\n",
    "    if os.path.isfile(p):\n",
    "        print(f\"== {k.upper()} -> {p}\")\n",
    "        print(open(p).read()[:1000] + (\"...\" if len(open(p).read())>1000 else \"\"))\n",
    "    else:\n",
    "        print(f\"(Aviso) No encontrado: {p}\")\n"
   ]
  },
  {
   "cell_type": "markdown",
   "id": "3dae7a05",
   "metadata": {},
   "source": [
    "\n",
    "## 4. Arquitectura (resumen)\n",
    "- **Docker Compose:** Jupyter + Spark (master/worker) + (opcional) PostgreSQL.\n",
    "- **Ingesta:** Volúmenes `data/` y `output/` montados.\n",
    "- **Procesado:** PySpark para ETL y métricas; scikit-learn/TensorFlow para modelos.\n",
    "- **Visualización:** Notebook + exportables (CSV/PNG) y/o Power BI.\n",
    "\n",
    "**Diagrama (alto nivel):**\n",
    "```\n",
    "[CSV RRHH]     [Encuesta Clima]\n",
    "     \\             /\n",
    "      \\           /         +------------------+\n",
    "       \\         /          |  JUPYTER         |\n",
    "       [ PySpark ETL ] --->  |  - ETL/Métricas  |--> /output/metrics, /output/plots, /output/bi\n",
    "                |            |  - ML / DL       |--> /output/models\n",
    "         /data/processed     +------------------+\n",
    "```\n"
   ]
  },
  {
   "cell_type": "markdown",
   "id": "036c332c",
   "metadata": {},
   "source": [
    "\n",
    "## 5. ETL (Spark) y *feature engineering*\n",
    "- **Join** inner por `EmployeeNumber`.\n",
    "- Limpieza y normalización de strings.\n",
    "- **Features creadas:**  \n",
    "  - `attrition_label` (Yes→1, No→0)  \n",
    "  - `overtime_flag` (Yes→1, No→0)  \n",
    "  - `income_yearly = MonthlyIncome * 12`  \n",
    "  - `tenure_ratio = YearsInCurrentRole / (TotalWorkingYears + eps)`\n",
    "- **Salida:** Parquet en `/data/processed/employee_attrition.parquet`.\n"
   ]
  },
  {
   "cell_type": "markdown",
   "id": "e17bd484",
   "metadata": {},
   "source": [
    "\n",
    "## 6. EDA (resumen)\n",
    "- Clase positiva ~16% → **desbalanceo moderado**.\n",
    "- **OverTime=Yes** y **ingresos bajos** asocian mayor attrition.\n",
    "- Satisfacción/engagement menores elevan la tasa.\n",
    "\n",
    "A continuación, se muestran KPIs de negocio exportados y gráficos clave (si existen en `/output/bi` y `/output/plots`)."
   ]
  },
  {
   "cell_type": "code",
   "execution_count": 12,
   "id": "f568653a",
   "metadata": {},
   "outputs": [
    {
     "data": {
      "text/html": [
       "<div>\n",
       "<style scoped>\n",
       "    .dataframe tbody tr th:only-of-type {\n",
       "        vertical-align: middle;\n",
       "    }\n",
       "\n",
       "    .dataframe tbody tr th {\n",
       "        vertical-align: top;\n",
       "    }\n",
       "\n",
       "    .dataframe thead th {\n",
       "        text-align: right;\n",
       "    }\n",
       "</style>\n",
       "<table border=\"1\" class=\"dataframe\">\n",
       "  <thead>\n",
       "    <tr style=\"text-align: right;\">\n",
       "      <th></th>\n",
       "      <th>rows</th>\n",
       "      <th>attrition_positive</th>\n",
       "      <th>attrition_rate</th>\n",
       "    </tr>\n",
       "  </thead>\n",
       "  <tbody>\n",
       "    <tr>\n",
       "      <th>0</th>\n",
       "      <td>1470</td>\n",
       "      <td>237</td>\n",
       "      <td>0.161224</td>\n",
       "    </tr>\n",
       "  </tbody>\n",
       "</table>\n",
       "</div>"
      ],
      "text/plain": [
       "   rows  attrition_positive  attrition_rate\n",
       "0  1470                 237        0.161224"
      ]
     },
     "metadata": {},
     "output_type": "display_data"
    },
    {
     "data": {
      "text/html": [
       "<div>\n",
       "<style scoped>\n",
       "    .dataframe tbody tr th:only-of-type {\n",
       "        vertical-align: middle;\n",
       "    }\n",
       "\n",
       "    .dataframe tbody tr th {\n",
       "        vertical-align: top;\n",
       "    }\n",
       "\n",
       "    .dataframe thead th {\n",
       "        text-align: right;\n",
       "    }\n",
       "</style>\n",
       "<table border=\"1\" class=\"dataframe\">\n",
       "  <thead>\n",
       "    <tr style=\"text-align: right;\">\n",
       "      <th></th>\n",
       "      <th>JobRole</th>\n",
       "      <th>n</th>\n",
       "      <th>attrition_rate</th>\n",
       "    </tr>\n",
       "  </thead>\n",
       "  <tbody>\n",
       "    <tr>\n",
       "      <th>0</th>\n",
       "      <td>Sales Representative</td>\n",
       "      <td>83</td>\n",
       "      <td>0.397590</td>\n",
       "    </tr>\n",
       "    <tr>\n",
       "      <th>1</th>\n",
       "      <td>Laboratory Technician</td>\n",
       "      <td>259</td>\n",
       "      <td>0.239382</td>\n",
       "    </tr>\n",
       "    <tr>\n",
       "      <th>2</th>\n",
       "      <td>Human Resources</td>\n",
       "      <td>52</td>\n",
       "      <td>0.230769</td>\n",
       "    </tr>\n",
       "    <tr>\n",
       "      <th>3</th>\n",
       "      <td>Sales Executive</td>\n",
       "      <td>326</td>\n",
       "      <td>0.174847</td>\n",
       "    </tr>\n",
       "    <tr>\n",
       "      <th>4</th>\n",
       "      <td>Research Scientist</td>\n",
       "      <td>292</td>\n",
       "      <td>0.160959</td>\n",
       "    </tr>\n",
       "  </tbody>\n",
       "</table>\n",
       "</div>"
      ],
      "text/plain": [
       "                 JobRole    n  attrition_rate\n",
       "0   Sales Representative   83        0.397590\n",
       "1  Laboratory Technician  259        0.239382\n",
       "2        Human Resources   52        0.230769\n",
       "3        Sales Executive  326        0.174847\n",
       "4     Research Scientist  292        0.160959"
      ]
     },
     "metadata": {},
     "output_type": "display_data"
    },
    {
     "data": {
      "text/html": [
       "<div>\n",
       "<style scoped>\n",
       "    .dataframe tbody tr th:only-of-type {\n",
       "        vertical-align: middle;\n",
       "    }\n",
       "\n",
       "    .dataframe tbody tr th {\n",
       "        vertical-align: top;\n",
       "    }\n",
       "\n",
       "    .dataframe thead th {\n",
       "        text-align: right;\n",
       "    }\n",
       "</style>\n",
       "<table border=\"1\" class=\"dataframe\">\n",
       "  <thead>\n",
       "    <tr style=\"text-align: right;\">\n",
       "      <th></th>\n",
       "      <th>Department</th>\n",
       "      <th>n</th>\n",
       "      <th>attrition_rate</th>\n",
       "    </tr>\n",
       "  </thead>\n",
       "  <tbody>\n",
       "    <tr>\n",
       "      <th>0</th>\n",
       "      <td>Sales</td>\n",
       "      <td>446</td>\n",
       "      <td>0.206278</td>\n",
       "    </tr>\n",
       "    <tr>\n",
       "      <th>1</th>\n",
       "      <td>Human Resources</td>\n",
       "      <td>63</td>\n",
       "      <td>0.190476</td>\n",
       "    </tr>\n",
       "    <tr>\n",
       "      <th>2</th>\n",
       "      <td>Research &amp; Development</td>\n",
       "      <td>961</td>\n",
       "      <td>0.138398</td>\n",
       "    </tr>\n",
       "  </tbody>\n",
       "</table>\n",
       "</div>"
      ],
      "text/plain": [
       "               Department    n  attrition_rate\n",
       "0                   Sales  446        0.206278\n",
       "1         Human Resources   63        0.190476\n",
       "2  Research & Development  961        0.138398"
      ]
     },
     "metadata": {},
     "output_type": "display_data"
    },
    {
     "data": {
      "text/html": [
       "<div>\n",
       "<style scoped>\n",
       "    .dataframe tbody tr th:only-of-type {\n",
       "        vertical-align: middle;\n",
       "    }\n",
       "\n",
       "    .dataframe tbody tr th {\n",
       "        vertical-align: top;\n",
       "    }\n",
       "\n",
       "    .dataframe thead th {\n",
       "        text-align: right;\n",
       "    }\n",
       "</style>\n",
       "<table border=\"1\" class=\"dataframe\">\n",
       "  <thead>\n",
       "    <tr style=\"text-align: right;\">\n",
       "      <th></th>\n",
       "      <th>OverTime</th>\n",
       "      <th>n</th>\n",
       "      <th>attrition_rate</th>\n",
       "    </tr>\n",
       "  </thead>\n",
       "  <tbody>\n",
       "    <tr>\n",
       "      <th>0</th>\n",
       "      <td>Yes</td>\n",
       "      <td>416</td>\n",
       "      <td>0.305288</td>\n",
       "    </tr>\n",
       "    <tr>\n",
       "      <th>1</th>\n",
       "      <td>No</td>\n",
       "      <td>1054</td>\n",
       "      <td>0.104364</td>\n",
       "    </tr>\n",
       "  </tbody>\n",
       "</table>\n",
       "</div>"
      ],
      "text/plain": [
       "  OverTime     n  attrition_rate\n",
       "0      Yes   416        0.305288\n",
       "1       No  1054        0.104364"
      ]
     },
     "metadata": {},
     "output_type": "display_data"
    },
    {
     "data": {
      "text/html": [
       "<div>\n",
       "<style scoped>\n",
       "    .dataframe tbody tr th:only-of-type {\n",
       "        vertical-align: middle;\n",
       "    }\n",
       "\n",
       "    .dataframe tbody tr th {\n",
       "        vertical-align: top;\n",
       "    }\n",
       "\n",
       "    .dataframe thead th {\n",
       "        text-align: right;\n",
       "    }\n",
       "</style>\n",
       "<table border=\"1\" class=\"dataframe\">\n",
       "  <thead>\n",
       "    <tr style=\"text-align: right;\">\n",
       "      <th></th>\n",
       "      <th>income_band</th>\n",
       "      <th>n</th>\n",
       "      <th>attrition_rate</th>\n",
       "    </tr>\n",
       "  </thead>\n",
       "  <tbody>\n",
       "    <tr>\n",
       "      <th>0</th>\n",
       "      <td>40–60k</td>\n",
       "      <td>307</td>\n",
       "      <td>0.143322</td>\n",
       "    </tr>\n",
       "    <tr>\n",
       "      <th>1</th>\n",
       "      <td>60–80k</td>\n",
       "      <td>249</td>\n",
       "      <td>0.088353</td>\n",
       "    </tr>\n",
       "    <tr>\n",
       "      <th>2</th>\n",
       "      <td>80–100k</td>\n",
       "      <td>102</td>\n",
       "      <td>0.137255</td>\n",
       "    </tr>\n",
       "    <tr>\n",
       "      <th>3</th>\n",
       "      <td>&lt;40k</td>\n",
       "      <td>442</td>\n",
       "      <td>0.269231</td>\n",
       "    </tr>\n",
       "    <tr>\n",
       "      <th>4</th>\n",
       "      <td>&gt;=100k</td>\n",
       "      <td>370</td>\n",
       "      <td>0.102703</td>\n",
       "    </tr>\n",
       "  </tbody>\n",
       "</table>\n",
       "</div>"
      ],
      "text/plain": [
       "  income_band    n  attrition_rate\n",
       "0      40–60k  307        0.143322\n",
       "1      60–80k  249        0.088353\n",
       "2     80–100k  102        0.137255\n",
       "3        <40k  442        0.269231\n",
       "4      >=100k  370        0.102703"
      ]
     },
     "metadata": {},
     "output_type": "display_data"
    },
    {
     "data": {
      "text/html": [
       "<div>\n",
       "<style scoped>\n",
       "    .dataframe tbody tr th:only-of-type {\n",
       "        vertical-align: middle;\n",
       "    }\n",
       "\n",
       "    .dataframe tbody tr th {\n",
       "        vertical-align: top;\n",
       "    }\n",
       "\n",
       "    .dataframe thead th {\n",
       "        text-align: right;\n",
       "    }\n",
       "</style>\n",
       "<table border=\"1\" class=\"dataframe\">\n",
       "  <thead>\n",
       "    <tr style=\"text-align: right;\">\n",
       "      <th></th>\n",
       "      <th>tenure_band</th>\n",
       "      <th>n</th>\n",
       "      <th>attrition_rate</th>\n",
       "    </tr>\n",
       "  </thead>\n",
       "  <tbody>\n",
       "    <tr>\n",
       "      <th>0</th>\n",
       "      <td>0–2</td>\n",
       "      <td>215</td>\n",
       "      <td>0.348837</td>\n",
       "    </tr>\n",
       "    <tr>\n",
       "      <th>1</th>\n",
       "      <td>2–5</td>\n",
       "      <td>365</td>\n",
       "      <td>0.180822</td>\n",
       "    </tr>\n",
       "    <tr>\n",
       "      <th>2</th>\n",
       "      <td>5–10</td>\n",
       "      <td>524</td>\n",
       "      <td>0.110687</td>\n",
       "    </tr>\n",
       "    <tr>\n",
       "      <th>3</th>\n",
       "      <td>&gt;=10</td>\n",
       "      <td>366</td>\n",
       "      <td>0.103825</td>\n",
       "    </tr>\n",
       "  </tbody>\n",
       "</table>\n",
       "</div>"
      ],
      "text/plain": [
       "  tenure_band    n  attrition_rate\n",
       "0         0–2  215        0.348837\n",
       "1         2–5  365        0.180822\n",
       "2        5–10  524        0.110687\n",
       "3        >=10  366        0.103825"
      ]
     },
     "metadata": {},
     "output_type": "display_data"
    }
   ],
   "source": [
    "# KPIs exportados para dashboard\n",
    "import pandas as pd, os\n",
    "\n",
    "bi_files = [\n",
    "    \"/output/bi/kpi_overview.csv\",\n",
    "    \"/output/bi/attrition_by_jobrole.csv\",\n",
    "    \"/output/bi/attrition_by_department.csv\",\n",
    "    \"/output/bi/attrition_by_overtime.csv\",\n",
    "    \"/output/bi/attrition_by_income_band.csv\",\n",
    "    \"/output/bi/attrition_by_tenure_band.csv\",\n",
    "]\n",
    "for f in bi_files:\n",
    "    if os.path.isfile(f):\n",
    "        display(pd.read_csv(f).head())\n",
    "    else:\n",
    "        print(\"(Aviso) No encontrado:\", f)\n"
   ]
  },
  {
   "cell_type": "code",
   "execution_count": 14,
   "id": "dfb235de",
   "metadata": {},
   "outputs": [
    {
     "data": {
      "image/png": "[encoded data removed]",
      "text/plain": [
       "<IPython.core.display.Image object>"
      ]
     },
     "metadata": {},
     "output_type": "display_data"
    },
    {
     "name": "stdout",
     "output_type": "stream",
     "text": [
      "(Aviso) Plot no encontrado: /output/plots/attrition_by_jobrole_top10.png\n",
      "(Aviso) Plot no encontrado: /output/plots/attrition_by_overtime.png\n"
     ]
    },
    {
     "data": {
      "image/png": "[encoded data removed]",
      "text/plain": [
       "<IPython.core.display.Image object>"
      ]
     },
     "metadata": {},
     "output_type": "display_data"
    },
    {
     "data": {
      "image/png": "[encoded data removed]",
      "text/plain": [
       "<IPython.core.display.Image object>"
      ]
     },
     "metadata": {},
     "output_type": "display_data"
    },
    {
     "data": {
      "image/png": "[encoded data removed]",
      "text/plain": [
       "<IPython.core.display.Image object>"
      ]
     },
     "metadata": {},
     "output_type": "display_data"
    },
    {
     "data": {
      "image/png": "[encoded data removed]",
      "text/plain": [
       "<IPython.core.display.Image object>"
      ]
     },
     "metadata": {},
     "output_type": "display_data"
    }
   ],
   "source": [
    "# Mostrar plots si existen\n",
    "import os, IPython\n",
    "plot_paths = [\n",
    "    \"/output/plots/attrition_jobrole.png\",\n",
    "    \"/output/plots/attrition_by_jobrole_top10.png\",\n",
    "    \"/output/plots/attrition_by_overtime.png\",\n",
    "    \"/output/plots/roc_auc_por_modelo.png\",\n",
    "    \"/output/plots/f1_por_modelo.png\",\n",
    "    \"/output/plots/model_compare_auc.png\",\n",
    "    \"/output/plots/model_compare_f1.png\",\n",
    "]\n",
    "for p in plot_paths:\n",
    "    if os.path.isfile(p):\n",
    "        display(IPython.display.Image(filename=p))\n",
    "    else:\n",
    "        print(\"(Aviso) Plot no encontrado:\", p)\n"
   ]
  },
  {
   "cell_type": "markdown",
   "id": "7cca1453",
   "metadata": {},
   "source": [
    "\n",
    "## 7. Modelado y comparación\n",
    "- **ML tradicional:** Logistic Regression (balancing), Random Forest.\n",
    "- **DL:** MLP (scikit-learn o Keras).\n",
    "- **Métricas:** Accuracy, F1, ROC-AUC, PR-AUC.\n",
    "\n",
    "Se selecciona el **mejor modelo** y se ajusta **umbral operativo** (F1/recall según negocio).\n"
   ]
  },
  {
   "cell_type": "code",
   "execution_count": 15,
   "id": "6c71ebfc",
   "metadata": {},
   "outputs": [
    {
     "name": "stdout",
     "output_type": "stream",
     "text": [
      "Baseline: {'logreg': {'accuracy': 0.7619047619047619, 'f1': 0.4696969696969697, 'roc_auc': 0.8052373158756138}, 'rf': {'accuracy': 0.8469387755102041, 'f1': 0.18181818181818182, 'roc_auc': 0.7932207769833749}}\n",
      "\n",
      "Comparativa: {'logreg': {'accuracy': 0.7619047619047619, 'f1': 0.4696969696969697, 'roc_auc': 0.8052373158756138}, 'rf': {'accuracy': 0.8469387755102041, 'f1': 0.18181818181818182, 'roc_auc': 0.7932207769833749}, 'mlp_sklearn': {'accuracy': 0.8707482993197279, 'f1': 0.4411764705882353, 'roc_auc': 0.8126453613575675}}\n",
      "\n",
      "Umbral LR: {'best_threshold_by_f1': 0.705193598441277, 'best_f1': 0.5168539325842697}\n",
      "Umbral MLP: {'best_threshold_by_f1': 0.27992078094205797, 'best_f1': 0.5384615384615384}\n"
     ]
    },
    {
     "data": {
      "text/html": [
       "<div>\n",
       "<style scoped>\n",
       "    .dataframe tbody tr th:only-of-type {\n",
       "        vertical-align: middle;\n",
       "    }\n",
       "\n",
       "    .dataframe tbody tr th {\n",
       "        vertical-align: top;\n",
       "    }\n",
       "\n",
       "    .dataframe thead th {\n",
       "        text-align: right;\n",
       "    }\n",
       "</style>\n",
       "<table border=\"1\" class=\"dataframe\">\n",
       "  <thead>\n",
       "    <tr style=\"text-align: right;\">\n",
       "      <th></th>\n",
       "      <th>model</th>\n",
       "      <th>accuracy</th>\n",
       "      <th>f1</th>\n",
       "      <th>roc_auc</th>\n",
       "    </tr>\n",
       "  </thead>\n",
       "  <tbody>\n",
       "    <tr>\n",
       "      <th>2</th>\n",
       "      <td>mlp_sklearn</td>\n",
       "      <td>0.870748</td>\n",
       "      <td>0.441176</td>\n",
       "      <td>0.812645</td>\n",
       "    </tr>\n",
       "    <tr>\n",
       "      <th>0</th>\n",
       "      <td>logreg</td>\n",
       "      <td>0.761905</td>\n",
       "      <td>0.469697</td>\n",
       "      <td>0.805237</td>\n",
       "    </tr>\n",
       "    <tr>\n",
       "      <th>1</th>\n",
       "      <td>rf</td>\n",
       "      <td>0.846939</td>\n",
       "      <td>0.181818</td>\n",
       "      <td>0.793221</td>\n",
       "    </tr>\n",
       "  </tbody>\n",
       "</table>\n",
       "</div>"
      ],
      "text/plain": [
       "         model  accuracy        f1   roc_auc\n",
       "2  mlp_sklearn  0.870748  0.441176  0.812645\n",
       "0       logreg  0.761905  0.469697  0.805237\n",
       "1           rf  0.846939  0.181818  0.793221"
      ]
     },
     "metadata": {},
     "output_type": "display_data"
    }
   ],
   "source": [
    "# Cargar métricas y umbrales guardados\n",
    "import json, os, pandas as pd\n",
    "\n",
    "def load_json(p):\n",
    "    if os.path.isfile(p):\n",
    "        with open(p) as f: \n",
    "            return json.load(f)\n",
    "    return {}\n",
    "\n",
    "baseline = load_json(\"/output/metrics/model_baseline.json\")\n",
    "compare  = load_json(\"/output/metrics/model_compare.json\") or baseline\n",
    "thr_lr   = load_json(\"/output/metrics/threshold_tuning.json\")\n",
    "thr_mlp  = load_json(\"/output/metrics/threshold_tuning_mlp.json\")\n",
    "\n",
    "print(\"Baseline:\", baseline if baseline else \"(no encontrado)\")\n",
    "print(\"\\nComparativa:\", compare if compare else \"(no encontrado)\")\n",
    "print(\"\\nUmbral LR:\", thr_lr if thr_lr else \"(no encontrado)\")\n",
    "print(\"Umbral MLP:\", thr_mlp if thr_mlp else \"(no encontrado)\")\n",
    "\n",
    "# Tabla resumen si existe comparativa\n",
    "if compare:\n",
    "    rows = []\n",
    "    for m, metrics in compare.items():\n",
    "        rows.append({\"model\": m, **metrics})\n",
    "    display(pd.DataFrame(rows).sort_values(\"roc_auc\", ascending=False))\n"
   ]
  },
  {
   "cell_type": "markdown",
   "id": "e4b5b81b",
   "metadata": {},
   "source": [
    "\n",
    "### 7.1 Política de decisión (umbral)\n",
    "- Umbral seleccionado por **máximo F1** (*o* por recall objetivo si negocio prioriza capturar más casos).\n",
    "- Se recomienda monitorizar F1/precision/recall mensual y recalibrar.\n",
    "\n",
    "**Salida de inferencia:** score ∈ [0,1] + predicción binaria según umbral.  \n",
    "**Ejecución sugerida:** lote semanal (o diaria) y aviso a managers de equipos con mayor tasa prevista.\n"
   ]
  },
  {
   "cell_type": "markdown",
   "id": "278bd2a7",
   "metadata": {},
   "source": [
    "\n",
    "## 8. KPIs y recomendación de negocio\n",
    "- Tasa por **JobRole** y **OverTime**: priorizar **revisión de horas extra** y **planes de compensación**.\n",
    "- Bandas **income** y **tenure**: diseñar **políticas de retención** específicas por tramo.\n",
    "- Usar la **bandera de riesgo** del modelo para priorizar entrevistas stay-interview.\n"
   ]
  },
  {
   "cell_type": "markdown",
   "id": "b33c37ff",
   "metadata": {},
   "source": [
    "\n",
    "## 9. Conclusiones y *lessons learned*\n",
    "- Modelos ML tradicionales pueden rendir tan bien o mejor que DL con buen preprocesado.\n",
    "- La **calidad de datos** y el **umbral** impactan más que micro-ajustes en hiperparámetros.\n",
    "- Métricas deben leerse junto al **coste/beneficio** (falsos positivos vs falsos negativos).\n"
   ]
  },
  {
   "cell_type": "markdown",
   "id": "3830f081",
   "metadata": {},
   "source": [
    "\n",
    "## 10. Próximos pasos\n",
    "- Enriquecer features (rotaciones internas, ausencias, rendimiento histórico).\n",
    "- Ajustar umbral por **coste esperado** (optimización de utilidad). \n",
    "- Validación temporal (*backtesting*) y **monitoring** (drift, estabilidad).\n",
    "- (Opcional) Despliegue en API/Batch + dashboard en Power BI.\n"
   ]
  },
  {
   "cell_type": "markdown",
   "id": "89096095",
   "metadata": {},
   "source": [
    "\n",
    "## Apéndice A — Reproducibilidad\n",
    "- **Arranque:** `docker compose up -d`  \n",
    "- **Datos:** `data/raw/` → ETL → `data/processed/`  \n",
    "- **Scripts:** `scripts/etl_attrition.py`  \n",
    "- **Notebooks:** `01_EDA_Attrition.ipynb`, `02_Modelado_Baseline.ipynb`, `03_Modelado_DL.ipynb`, `05_Dashboard_KPIs.ipynb`, `99_Informe_Final.ipynb`  \n",
    "- **Resultados:** `output/metrics/`, `output/models/`, `output/plots/`, `output/bi/`\n"
   ]
  }
 ],
 "metadata": {
  "kernelspec": {
   "display_name": "Python 3 (ipykernel)",
   "language": "python",
   "name": "python3"
  },
  "language_info": {
   "codemirror_mode": {
    "name": "ipython",
    "version": 3
   },
   "file_extension": ".py",
   "mimetype": "text/x-python",
   "name": "python",
   "nbconvert_exporter": "python",
   "pygments_lexer": "ipython3",
   "version": "3.11.6"
  }
 },
 "nbformat": 4,
 "nbformat_minor": 5
}
